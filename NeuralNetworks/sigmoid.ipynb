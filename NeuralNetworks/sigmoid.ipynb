{
 "cells": [
  {
   "cell_type": "code",
   "execution_count": 1,
   "id": "f2290abd",
   "metadata": {},
   "outputs": [],
   "source": [
    "import torch\n",
    "import torch.nn as nn\n",
    "import torch.optim as optim"
   ]
  },
  {
   "cell_type": "code",
   "execution_count": 2,
   "id": "20660482",
   "metadata": {},
   "outputs": [],
   "source": [
    "# Example training data\n",
    "# Assume we have input data and targets (for simplicity, here we use random data)\n",
    "inputs = torch.tensor([[0.0], [1.0], [1.0], [0.0]], dtype=torch.float32)\n",
    "targets = torch.tensor([[0.0], [1.0], [1.0], [0.0]], dtype=torch.float32)"
   ]
  },
  {
   "cell_type": "code",
   "execution_count": 3,
   "id": "6044060a",
   "metadata": {},
   "outputs": [],
   "source": [
    "# Define a simple neural network model with one hidden layer\n",
    "class SimpleNN(nn.Module):\n",
    "    def __init__(self):\n",
    "        super(SimpleNN, self).__init__()\n",
    "        self.fc1 = nn.Linear(1, 5)  # Input layer to hidden layer\n",
    "        self.fc2 = nn.Linear(5, 1)   # Hidden layer to output layer\n",
    "\n",
    "    def forward(self, x):\n",
    "        x = torch.sigmoid(self.fc1(x))  # Sigmoid activation in the hidden layer\n",
    "        x = self.fc2(x)                 # Linear output\n",
    "        return x"
   ]
  },
  {
   "cell_type": "code",
   "execution_count": 4,
   "id": "b7b2db6d",
   "metadata": {},
   "outputs": [],
   "source": [
    "# Initialize the model, loss function, and optimizer\n",
    "model = SimpleNN()\n",
    "criterion = nn.BCEWithLogitsLoss()  # For binary classification\n",
    "optimizer = optim.SGD(model.parameters(), lr=0.01)\n"
   ]
  },
  {
   "cell_type": "code",
   "execution_count": 5,
   "id": "722f64d0",
   "metadata": {},
   "outputs": [],
   "source": [
    "\n",
    "# Training loop\n",
    "for epoch in range(1000):  # Number of training iterations\n",
    "    model.train()  # Set model to training mode\n",
    "    optimizer.zero_grad()  # Clear gradients\n",
    "    outputs = model(inputs)  # Forward pass\n",
    "    loss = criterion(outputs, targets)  # Compute loss\n",
    "    loss.backward()  # Backpropagation\n",
    "    optimizer.step()  # Update weights"
   ]
  },
  {
   "cell_type": "code",
   "execution_count": 6,
   "id": "e1e31bb0",
   "metadata": {},
   "outputs": [
    {
     "name": "stdout",
     "output_type": "stream",
     "text": [
      "Predicted values: tensor([[0.5042],\n",
      "        [0.5431],\n",
      "        [0.5431],\n",
      "        [0.5042]])\n"
     ]
    }
   ],
   "source": [
    "# Test the model\n",
    "model.eval()  # Set model to evaluation mode\n",
    "with torch.no_grad():\n",
    "    test_outputs = model(inputs)\n",
    "    predicted = torch.sigmoid(test_outputs)  # Apply sigmoid to get probabilities\n",
    "    print(\"Predicted values:\", predicted)"
   ]
  },
  {
   "cell_type": "code",
   "execution_count": null,
   "id": "d5443b73",
   "metadata": {},
   "outputs": [],
   "source": []
  }
 ],
 "metadata": {
  "kernelspec": {
   "display_name": "base",
   "language": "python",
   "name": "python3"
  },
  "language_info": {
   "codemirror_mode": {
    "name": "ipython",
    "version": 3
   },
   "file_extension": ".py",
   "mimetype": "text/x-python",
   "name": "python",
   "nbconvert_exporter": "python",
   "pygments_lexer": "ipython3",
   "version": "3.12.4"
  }
 },
 "nbformat": 4,
 "nbformat_minor": 5
}
